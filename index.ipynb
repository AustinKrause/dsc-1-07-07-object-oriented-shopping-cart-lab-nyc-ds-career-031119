{
 "cells": [
  {
   "cell_type": "markdown",
   "metadata": {},
   "source": [
    "# Object Oriented Shopping Cart - Lab"
   ]
  },
  {
   "cell_type": "markdown",
   "metadata": {},
   "source": [
    "## Introduction\n",
    "In this lab we will be mimicing the functionality of a shopping cart with our knowledge of object oriented Python. Our shopping cart will be able to add items of different quantities and prices to our cart, calculate discounts, keep track of what items have been added, and void transactions."
   ]
  },
  {
   "cell_type": "markdown",
   "metadata": {},
   "source": [
    "## Objectives\n",
    "\n",
    "You will be able to:\n",
    "\n",
    "* Build a class with instance methods\n",
    "* Call instance methods inside of other instance methods\n",
    "* Use instance methods to track information pertinent to an instance of a class"
   ]
  },
  {
   "cell_type": "markdown",
   "metadata": {},
   "source": [
    "## Instructions"
   ]
  },
  {
   "cell_type": "markdown",
   "metadata": {},
   "source": [
    "In this lab, you'll practice your object orientated programming skills by modifying the shopping_cart.py file.\n",
    "\n",
    "To start, we'll set this notebook to autoreload packages so that when you update shopping_cart.py, you can experiment with the effects here. Remember that while the package will be reloaded, you will need to reinitialize your class instance. Here's an example to get you started:"
   ]
  },
  {
   "cell_type": "code",
   "execution_count": 1,
   "metadata": {},
   "outputs": [],
   "source": [
    "%load_ext autoreload\n",
    "%autoreload 2"
   ]
  },
  {
   "cell_type": "code",
   "execution_count": 2,
   "metadata": {},
   "outputs": [],
   "source": [
    "#Import our custom package\n",
    "from shopping_cart import ShoppingCart\n",
    "from statistics import median"
   ]
  },
  {
   "cell_type": "code",
   "execution_count": 3,
   "metadata": {},
   "outputs": [],
   "source": [
    "#Initialize an instance of our shopping cart class\n",
    "shopping_cart = ShoppingCart()"
   ]
  },
  {
   "cell_type": "markdown",
   "metadata": {},
   "source": [
    "## Add an Initialization Behavior to the ShoppingCart Class\n",
    "\n",
    "Update your shopping_cart.py file to include an __init__ method. This should define three default attributes: 'total', which should be set to 0, 'employee_discount', set to None and 'items', set to a blank list. The line of code below should work and produce the previewed output once you do this."
   ]
  },
  {
   "cell_type": "code",
   "execution_count": 18,
   "metadata": {},
   "outputs": [
    {
     "name": "stdout",
     "output_type": "stream",
     "text": [
      "0\n",
      "0\n",
      "[]\n"
     ]
    }
   ],
   "source": [
    "class ShoppingCart:\n",
    "    \n",
    "    def __init__(self, discount):\n",
    "        self.total = 0\n",
    "        self.prices = []\n",
    "        self.employee_discount = discount\n",
    "        self.items = []\n",
    "        \n",
    "    def add_item(self, name, price, quantity=1):\n",
    "        for i in range(0,quantity):\n",
    "            self.total += price\n",
    "            self.prices.append(price)\n",
    "            self.items.append(name)\n",
    "\n",
    "    def void_items(self, number_of_deletions):\n",
    "        for i in range(0,number_of_deletions):\n",
    "            if len(self.items) == 0:\n",
    "                return 'There are no items in your cart'\n",
    "            else:\n",
    "                self.items.pop()\n",
    "                self.prices.pop()\n",
    "                self.total = 0\n",
    "                return 'Your shopping cart is now empty'\n",
    "         \n",
    "    def clear_cart(self):\n",
    "        for i in range(len(self.items)):\n",
    "            self.items.pop()\n",
    "            self.prices = 0\n",
    "            self.total = 0\n",
    "                \n",
    "    def mean_item_price(self):\n",
    "        total_price = self.total\n",
    "        mean_price = total_price/len(self.items)\n",
    "        return mean_price\n",
    "    \n",
    "    def median_item_price(self):\n",
    "        sorted_prices = sorted(self.items)\n",
    "        len_of_items = len(sorted_prices)\n",
    "        if len_of_items % 2 == 1:\n",
    "            middle_element = (len_of_items/2) + .5\n",
    "            return self.prices[int(middle_element)]\n",
    "        else:\n",
    "            middle_element_1 = (len_of_items/2)\n",
    "            middle_element_2 = (len_of_items/2) + 1\n",
    "            middle_prices = [self.prices[int(middle_element_1)], self.prices[int(middle_element_2)]]\n",
    "            return round((middle_prices[0] + middle_prices[1])/2, 2)\n",
    "        \n",
    "    def apply_discount(self):\n",
    "        if self.employee_discount != 0:\n",
    "            discounted_total = (self.total*(self.employee_discount*.01))\n",
    "            self.total -= discounted_total\n",
    "        else:\n",
    "            return 'Sorry, you are not eligible for discount'\n",
    "            \n",
    "shopping_cart = ShoppingCart(0) #Add a line to reinitialize an instance of the class\n",
    "print(shopping_cart.total)\n",
    "print(shopping_cart.employee_discount)\n",
    "print(shopping_cart.items)\n",
    "\n"
   ]
  },
  {
   "cell_type": "markdown",
   "metadata": {},
   "source": [
    "## Add and `add_item()` method."
   ]
  },
  {
   "cell_type": "markdown",
   "metadata": {},
   "source": [
    "Define an instance method called `add_item` that will add an item to our cart. It should take in the name of an item, its price and an optional quantity. The method should increase the shopping cart's total by the appropriate amount and return the new total for the shopping cart."
   ]
  },
  {
   "cell_type": "markdown",
   "metadata": {},
   "source": [
    "> **hint:** think about how you would like to keep this information in your list of items. Can we imagine wanting to ever check the price of an individual item after we've added it to our cart? What data type do we know of that can associate the item name with it's price?"
   ]
  },
  {
   "cell_type": "code",
   "execution_count": 5,
   "metadata": {},
   "outputs": [],
   "source": [
    "shopping_cart.add_item(\"rainbow sandals\", 45.99)# 45.99"
   ]
  },
  {
   "cell_type": "code",
   "execution_count": 6,
   "metadata": {},
   "outputs": [],
   "source": [
    "shopping_cart.add_item(\"agyle socks\", 10.50) # 56.49"
   ]
  },
  {
   "cell_type": "code",
   "execution_count": 7,
   "metadata": {},
   "outputs": [
    {
     "data": {
      "text/plain": [
       "['rainbow sandals', 'agyle socks', 'jeans', 'jeans', 'jeans']"
      ]
     },
     "execution_count": 7,
     "metadata": {},
     "output_type": "execute_result"
    }
   ],
   "source": [
    "shopping_cart.add_item(\"jeans\", 50.00, 3) # 206.49\n",
    "\n",
    "shopping_cart.items"
   ]
  },
  {
   "cell_type": "markdown",
   "metadata": {},
   "source": [
    "## Add Summary Methods `mean_item_price()` and `median_item_price()` "
   ]
  },
  {
   "cell_type": "markdown",
   "metadata": {},
   "source": [
    "Define two more instance methods: `mean_item_price` and `median_item_price`, which should return the average price per item and the median price of the items in your cart, respectively. \n",
    "\n",
    "> **Remember:** the mean is the average price per item and to find the median we must do three things:\n",
    "* First put all numbers in our list in ascending order (smallest to greatest)\n",
    "* Then check to see if there is an odd number of elements in our list. If so, the middle number is the median\n",
    "* Finally, if there is an even number of elements in the list, the median will be the average or mean of the two center elements (e.g. given the list `[1,2,3,4]` the elements `2` and `3` are the two center elements and the median would be (2 + 3)/2 or `2.5`)."
   ]
  },
  {
   "cell_type": "code",
   "execution_count": 11,
   "metadata": {},
   "outputs": [
    {
     "name": "stdout",
     "output_type": "stream",
     "text": [
      "41.298\n",
      "['rainbow sandals', 'agyle socks', 'jeans', 'jeans', 'jeans']\n",
      "206.49\n"
     ]
    }
   ],
   "source": [
    "print(shopping_cart.mean_item_price())\n",
    "print(shopping_cart.items)# 41.29\n",
    "print(shopping_cart.total)"
   ]
  },
  {
   "cell_type": "code",
   "execution_count": 12,
   "metadata": {},
   "outputs": [
    {
     "data": {
      "text/plain": [
       "50.0"
      ]
     },
     "execution_count": 12,
     "metadata": {},
     "output_type": "execute_result"
    }
   ],
   "source": [
    "shopping_cart.median_item_price() # 50.00"
   ]
  },
  {
   "cell_type": "markdown",
   "metadata": {},
   "source": [
    "## Add an `apply_discount` method"
   ]
  },
  {
   "cell_type": "markdown",
   "metadata": {},
   "source": [
    "Now, let's define an instance method called `apply_discount` that applies a discount if one is provided and returns the discounted total. For example, if we initialize a new shopping cart with a discount of 20% then our total should be discounted in the amount of 20%. So, if our total were `$100`, after the discount we only would owe `$80`.\n",
    "\n",
    "If our shopping cart does not have an employee discount, then it should return a string saying: `\"Sorry, there is no discount to apply to your cart :(\"`"
   ]
  },
  {
   "cell_type": "code",
   "execution_count": 15,
   "metadata": {},
   "outputs": [
    {
     "name": "stdout",
     "output_type": "stream",
     "text": [
      "['rainbow sandals', 'agyle socks', 'macbook air']\n",
      "848.0\n"
     ]
    },
    {
     "data": {
      "text/plain": [
       "'Sorry, you are not eligible for discount'"
      ]
     },
     "execution_count": 15,
     "metadata": {},
     "output_type": "execute_result"
    }
   ],
   "source": [
    "discount_shopping_cart = ShoppingCart(20)\n",
    "discount_shopping_cart.clear_cart()\n",
    "\n",
    "discount_shopping_cart.add_item(\"rainbow sandals\", 45.00) # 45.00\n",
    "discount_shopping_cart.add_item(\"agyle socks\", 15.00) # 60.00\n",
    "discount_shopping_cart.add_item(\"macbook air\", 1000.00) # 1060.00\n",
    "print(discount_shopping_cart.items)\n",
    "discount_shopping_cart.apply_discount() #48.00\n",
    "print(discount_shopping_cart.total)\n",
    "\n",
    "shopping_cart.apply_discount() # Sorry, there is no discount to apply to your cart"
   ]
  },
  {
   "cell_type": "markdown",
   "metadata": {},
   "source": [
    "## Add a `void_last_item()` method"
   ]
  },
  {
   "cell_type": "markdown",
   "metadata": {},
   "source": [
    "Finally, we are missing one piece of functionality. What if we just accidentally added something to our cart or decided that this item is too expensive for our budget? Let's define a method called `void_last_item` that removes the last item from our shopping cart and updates its total.  If there are no items in the shopping cart, `void_last_item` should return `\"There are no items in your cart!\"`."
   ]
  },
  {
   "cell_type": "code",
   "execution_count": 20,
   "metadata": {},
   "outputs": [
    {
     "name": "stdout",
     "output_type": "stream",
     "text": [
      "There are no items in your cart\n"
     ]
    },
    {
     "data": {
      "text/plain": [
       "0"
      ]
     },
     "execution_count": 20,
     "metadata": {},
     "output_type": "execute_result"
    }
   ],
   "source": [
    "print(shopping_cart.void_items(2))\n",
    "shopping_cart.total # 156.49"
   ]
  },
  {
   "cell_type": "markdown",
   "metadata": {},
   "source": [
    "## Summary\n",
    "In this lab, we practiced using instance methods to mimic the functionality of a shopping cart as well as defined methods that give us the mean and median prices of all the items in our cart. "
   ]
  }
 ],
 "metadata": {
  "kernelspec": {
   "display_name": "Python 3",
   "language": "python",
   "name": "python3"
  },
  "language_info": {
   "codemirror_mode": {
    "name": "ipython",
    "version": 3
   },
   "file_extension": ".py",
   "mimetype": "text/x-python",
   "name": "python",
   "nbconvert_exporter": "python",
   "pygments_lexer": "ipython3",
   "version": "3.6.6"
  }
 },
 "nbformat": 4,
 "nbformat_minor": 2
}
